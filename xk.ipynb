{
 "cells": [
  {
   "cell_type": "code",
   "execution_count": null,
   "metadata": {},
   "outputs": [],
   "source": [
    "import requests\n",
    "import time\n",
    "import os"
   ]
  },
  {
   "cell_type": "markdown",
   "metadata": {},
   "source": [
    "### 手动更新"
   ]
  },
  {
   "cell_type": "code",
   "execution_count": null,
   "metadata": {},
   "outputs": [],
   "source": [
    "UA = \"Mozilla/5.0 (Windows NT 10.0; Win64; x64) AppleWebKit/537.36 (KHTML, like Gecko) Chrome/132.0.0.0 Safari/537.36\"\n",
    "Cookie = \"xxxxxxxxxxxxxxxxxxx\""
   ]
  },
  {
   "cell_type": "code",
   "execution_count": 36,
   "metadata": {},
   "outputs": [],
   "source": [
    "cookies = {\n",
    "    \"Accept\": \"application/json, text/javascript, */*; q=0.01\",\n",
    "    \"Accept-Encoding\": \"gzip, deflate, br, zstd\",\n",
    "    \"Accept-Language\": \"en-US,en;q=0.9,zh-CN;q=0.8,zh;q=0.7,ja;q=0.6\",\n",
    "    \"Cache-Control\": \"no-cache\",\n",
    "    \"Connection\": \"keep-alive\",\n",
    "    \"Cookie\": Cookie,\n",
    "    \"Host\": \"wsxk.hust.edu.cn\",\n",
    "    \"Pragma\": \"no-cache\",\n",
    "    \"Referer\": \"\",\n",
    "    \"Sec-Fetch-Dest\": \"empty\",\n",
    "    \"Sec-Fetch-Mode\": \"cors\",\n",
    "    \"Sec-Fetch-Site\": \"same-origin\",\n",
    "    \"User-Agent\": UA,\n",
    "    \"X-Requested-With\": \"XMLHttpRequest\",\n",
    "}\n",
    "sess = requests.Session()"
   ]
  },
  {
   "cell_type": "markdown",
   "metadata": {},
   "source": [
    "### 课程信息"
   ]
  },
  {
   "cell_type": "code",
   "execution_count": null,
   "metadata": {},
   "outputs": [
    {
     "name": "stdout",
     "output_type": "stream",
     "text": [
      "20242 1069 命令式计算原理 4339 w122031\n",
      "20242 1070 Verilog语言 4340 w906368\n",
      "20242 1071 JAVA语言程序设计 4341 w904670\n",
      "20242 1072 机器学习导论 4342 w906380\n",
      "20242 1073 游戏设计与开发概论 4343 w126680\n",
      "20242 1074 大数据分析 4345 w126044\n",
      "20242 1074 大数据分析实验 4345 w127606\n"
     ]
    }
   ],
   "source": [
    "cookies[\"Referer\"] = \"https://wsxk.hust.edu.cn/zyxxk/Stuxk/jumpAkcxk?fzxkfs=&xkgz=1\"\n",
    "data = {\n",
    "    \"page\": 1,\n",
    "    \"xkgz\": 1, # 选课规则\n",
    "    \"limit\": 10,\n",
    "    \"fzxkfs\": \"\", # 分组选课方式\n",
    "}\n",
    "tst = sess.post(\"https://wsxk.hust.edu.cn/zyxxk/Stuxk/getXsFaFZkc\",\n",
    "                headers=cookies, params=data).json()\n",
    "for kc in tst['data']:\n",
    "    kcmc, fzid, kcbh, faid, xqh = kc['KCMC'], kc['FZID'], kc['KCBH'], kc['ID'], kc['XQH']\n",
    "    print(xqh, faid, kcmc, fzid, kcbh)"
   ]
  },
  {
   "cell_type": "markdown",
   "metadata": {},
   "source": [
    "### 课堂信息"
   ]
  },
  {
   "cell_type": "code",
   "execution_count": null,
   "metadata": {},
   "outputs": [
    {
     "name": "stdout",
     "output_type": "stream",
     "text": [
      "{('崔金华', '20242w127606001')}\n"
     ]
    }
   ],
   "source": [
    "cookies[\"Referer\"] = f\"https://wsxk.hust.edu.cn/zyxxk/Stuxk/jumpAktxk?fzid={fzid}&kcbh={kcbh}&faid={faid}&sfid=\"\n",
    "data = {\n",
    "    \"page\": 1,\n",
    "    \"limit\": 10,\n",
    "    \"fzid\": fzid, # 分组ID\n",
    "    \"kcbh\": kcbh, # 课程编号\n",
    "    \"sfid\": \"\",\n",
    "    \"faid\": faid, # 方案ID\n",
    "    \"id\": faid,\n",
    "}\n",
    "tst = sess.post(\"https://wsxk.hust.edu.cn/zyxxk/Stuxk/getFzkt\",\n",
    "                headers=cookies, params=data).json()\n",
    "s = set()\n",
    "for kt in tst['data']:\n",
    "    ktbh = kt['KTBH']\n",
    "    s.add((kt['XM'], kt['KTBH']))\n",
    "print(s)"
   ]
  },
  {
   "cell_type": "markdown",
   "metadata": {},
   "source": [
    "### 选课"
   ]
  },
  {
   "cell_type": "code",
   "execution_count": null,
   "metadata": {},
   "outputs": [
    {
     "data": {
      "text/plain": [
       "{'msg': '选择的课堂容量已满,请选择其他课堂!', 'code': '1'}"
      ]
     },
     "execution_count": 34,
     "metadata": {},
     "output_type": "execute_result"
    }
   ],
   "source": [
    "cookies[\"Referer\"] = f\"https://wsxk.hust.edu.cn/zyxxk/Stuxk/jumpAktxk?fzid={fzid}&kcbh={kcbh}&faid={faid}&sfid=\"\n",
    "data = {\n",
    "    \"kcbh\": kcbh,\n",
    "    \"ktbh\": ktbh, # 课堂编号\n",
    "    \"fzid\": fzid,\n",
    "    \"sfid\": \"\",\n",
    "    \"faid\": faid,\n",
    "    \"xqh\": xqh, # 学期号\n",
    "}\n",
    "tst = sess.post(\"https://wsxk.hust.edu.cn/zyxxk/Stuxk/addStuxkIsxphx\",\n",
    "                headers=cookies, params=data).json()\n",
    "tst"
   ]
  }
 ],
 "metadata": {
  "kernelspec": {
   "display_name": "Pytch",
   "language": "python",
   "name": "python3"
  },
  "language_info": {
   "codemirror_mode": {
    "name": "ipython",
    "version": 3
   },
   "file_extension": ".py",
   "mimetype": "text/x-python",
   "name": "python",
   "nbconvert_exporter": "python",
   "pygments_lexer": "ipython3",
   "version": "3.9.18"
  }
 },
 "nbformat": 4,
 "nbformat_minor": 2
}
